{
 "cells": [
  {
   "cell_type": "code",
   "execution_count": 2,
   "metadata": {},
   "outputs": [
    {
     "name": "stdout",
     "output_type": "stream",
     "text": [
      "\n"
     ]
    }
   ],
   "source": [
    "import pandas as pd\n",
    "import numpy as np\n",
    "import skfuzzy as fuzz\n",
    "from skfuzzy import control as ctrl\n",
    "import matplotlib.pyplot as plt\n",
    "from sklearn.preprocessing import MinMaxScaler\n",
    "from sklearn.metrics import mean_absolute_error, mean_squared_error\n",
    "import os\n"
   ]
  },
  {
   "cell_type": "markdown",
   "metadata": {},
   "source": [
    "**DATA PREP**"
   ]
  },
  {
   "cell_type": "code",
   "execution_count": 53,
   "metadata": {},
   "outputs": [],
   "source": [
    "# desktop_path = os.path.join(os.path.expanduser('~'), 'OneDrive', 'Desktop')\n",
    "\n",
    "# csv_path = os.path.join(os.path.expanduser('~'), 'OneDrive', 'Desktop','UNI', 'Fuzzy', '2018_Financial_Data.csv')\n",
    "# financial_data = pd.read_csv(csv_path)\n",
    "# financial_data_subset = financial_data[['Revenue', 'Gross Profit', 'Short-term debt', 'Net Income', 'Total assets', '2019 PRICE VAR [%]']]\n",
    "\n",
    "# print(\"Missing values:\")\n",
    "# print(financial_data_subset['Revenue'].isnull().sum(), \"missing in Revenue\")\n",
    "# print(financial_data_subset['Gross Profit'].isnull().sum(), \"missing in Gross Profit\")\n",
    "# print(financial_data_subset['Short-term debt'].isnull().sum(), \"missing in Short-term debt\")\n",
    "# print(financial_data_subset['Net Income'].isnull().sum(), \"missing in Dividend per Share\")\n",
    "# print(financial_data_subset['Total assets'].isnull().sum(), \"missing in Dividends per Share Growth\")\n",
    "# print(financial_data_subset['2019 PRICE VAR [%]'].isnull().sum(), \"missing in 2019 PRICE VAR [%]\")\n",
    "\n",
    "# print(\"\\nZero values:\")\n",
    "# print((financial_data_subset['Revenue'] == 0).sum(), \"zeros in Revenue\")\n",
    "# print((financial_data_subset['Gross Profit'] == 0).sum(), \"zeros in Gross Profit\")\n",
    "# print((financial_data_subset['Short-term debt'] == 0).sum(), \"zeros in Short-term debt\")\n",
    "# print((financial_data_subset['Net Income'] == 0).sum(), \"zeros in Dividend per Share\")\n",
    "# print((financial_data_subset['Total assets'] == 0).sum(), \"zeros in Dividends per Share Growth\")\n",
    "# print((financial_data_subset['2019 PRICE VAR [%]'] == 0).sum(), \"zeros in 2019 PRICE VAR [%]\")\n"
   ]
  },
  {
   "cell_type": "code",
   "execution_count": 54,
   "metadata": {},
   "outputs": [],
   "source": [
    "# cleaned_data = financial_data_subset.copy()\n",
    "\n",
    "# cleaned_data['Revenue'].fillna(cleaned_data['Revenue'].median(), inplace=True)\n",
    "# cleaned_data['Gross Profit'].fillna(cleaned_data['Gross Profit'].median(), inplace=True)\n",
    "# cleaned_data['Short-term debt'].fillna(cleaned_data['Short-term debt'].median(), inplace=True)\n",
    "# cleaned_data['Net Income'].fillna(cleaned_data['Net Income'].median(), inplace=True)  # Treat missing dividend as 0\n",
    "# cleaned_data['Total assets'].fillna(cleaned_data['Total assets'].median(), inplace=True)  # Treat missing growth as 0\n",
    "\n",
    "# cleaned_data['Revenue'].replace(0, cleaned_data['Revenue'].median(), inplace=True)\n",
    "# cleaned_data['Gross Profit'].replace(0, cleaned_data['Gross Profit'].median(), inplace=True)\n",
    "\n",
    "# cleaned_data = cleaned_data[cleaned_data['Net Income'] != 0]\n",
    "# cleaned_data = cleaned_data[cleaned_data['Total assets'] != 0]\n",
    "# cleaned_data.reset_index(drop=True, inplace=True)\n",
    "\n",
    "\n"
   ]
  },
  {
   "cell_type": "code",
   "execution_count": 55,
   "metadata": {},
   "outputs": [],
   "source": [
    "\n",
    "# print(\"Missing values:\")\n",
    "# print(cleaned_data['Revenue'].isnull().sum(), \"missing in Revenue\")\n",
    "# print(cleaned_data['Gross Profit'].isnull().sum(), \"missing in Gross Profit\")\n",
    "# print(cleaned_data['Short-term debt'].isnull().sum(), \"missing in Short-term debt\")\n",
    "# print(cleaned_data['Net Income'].isnull().sum(), \"missing in Dividend per Share\")\n",
    "# print(cleaned_data['Total assets'].isnull().sum(), \"missing in Dividends per Share Growth\")\n",
    "# print(cleaned_data['2019 PRICE VAR [%]'].isnull().sum(), \"missing in 2019 PRICE VAR [%]\")\n",
    "\n",
    "# print(\"\\nZero values:\")\n",
    "# print((cleaned_data['Revenue'] == 0).sum(), \"zeros in Revenue\")\n",
    "# print((cleaned_data['Gross Profit'] == 0).sum(), \"zeros in Gross Profit\")\n",
    "# print((cleaned_data['Short-term debt'] == 0).sum(), \"zeros in Short-term debt\")\n",
    "# print((cleaned_data['Net Income'] == 0).sum(), \"zeros in Dividend per Share\")\n",
    "# print((cleaned_data['Total assets'] == 0).sum(), \"zeros in Dividends per Share Growth\")\n",
    "# print((cleaned_data['2019 PRICE VAR [%]'] == 0).sum(), \"zeros in 2019 PRICE VAR [%]\")"
   ]
  },
  {
   "cell_type": "code",
   "execution_count": 56,
   "metadata": {},
   "outputs": [],
   "source": [
    "# s_path = os.path.join(os.path.expanduser('~'), 'OneDrive', 'Desktop','UNI' , 'Fuzzy', 'cleaned_data.csv')\n",
    "\n",
    "# cleaned_data.to_csv(s_path, index=False)\n"
   ]
  },
  {
   "cell_type": "code",
   "execution_count": 57,
   "metadata": {},
   "outputs": [],
   "source": [
    "# data_path = os.path.join(os.path.expanduser('~'), 'OneDrive', 'Desktop','UNI' , 'Fuzzy', 'cleaned_data.csv')\n",
    "# stock_data = pd.read_csv(data_path)\n",
    "# print(stock_data)"
   ]
  },
  {
   "cell_type": "code",
   "execution_count": 58,
   "metadata": {},
   "outputs": [],
   "source": [
    "# stock_data['Profit Margin'] = (stock_data['Gross Profit'] / stock_data['Revenue'])* 100\n",
    "\n",
    "# stock_data['Debt Ratio'] = (stock_data['Short-term debt'] / stock_data['Total assets'])* 100\n",
    "\n",
    "# stock_data['ROA'] = (stock_data['Net Income'] / stock_data['Total assets'])* 100\n",
    "\n",
    "# print(stock_data)"
   ]
  },
  {
   "cell_type": "code",
   "execution_count": 59,
   "metadata": {},
   "outputs": [],
   "source": [
    "# columns_to_keep = ['Profit Margin', 'Debt Ratio', 'ROA', '2019 PRICE VAR [%]']\n",
    "# stock_data = stock_data[columns_to_keep]\n",
    "\n",
    "# print(stock_data)"
   ]
  },
  {
   "cell_type": "markdown",
   "metadata": {},
   "source": [
    "**WORK FROM HERE**"
   ]
  },
  {
   "cell_type": "code",
   "execution_count": 3,
   "metadata": {},
   "outputs": [
    {
     "data": {
      "text/html": [
       "<div>\n",
       "<style scoped>\n",
       "    .dataframe tbody tr th:only-of-type {\n",
       "        vertical-align: middle;\n",
       "    }\n",
       "\n",
       "    .dataframe tbody tr th {\n",
       "        vertical-align: top;\n",
       "    }\n",
       "\n",
       "    .dataframe thead th {\n",
       "        text-align: right;\n",
       "    }\n",
       "</style>\n",
       "<table border=\"1\" class=\"dataframe\">\n",
       "  <thead>\n",
       "    <tr style=\"text-align: right;\">\n",
       "      <th></th>\n",
       "      <th>Profit Margin</th>\n",
       "      <th>Debt Ratio</th>\n",
       "      <th>ROA</th>\n",
       "      <th>2019 PRICE VAR [%]</th>\n",
       "    </tr>\n",
       "  </thead>\n",
       "  <tbody>\n",
       "    <tr>\n",
       "      <th>0</th>\n",
       "      <td>181.923770</td>\n",
       "      <td>100.000000</td>\n",
       "      <td>76.138651</td>\n",
       "      <td>90.692319</td>\n",
       "    </tr>\n",
       "    <tr>\n",
       "      <th>1</th>\n",
       "      <td>179.253627</td>\n",
       "      <td>96.498837</td>\n",
       "      <td>73.572218</td>\n",
       "      <td>90.404436</td>\n",
       "    </tr>\n",
       "    <tr>\n",
       "      <th>2</th>\n",
       "      <td>172.680547</td>\n",
       "      <td>93.015537</td>\n",
       "      <td>72.065130</td>\n",
       "      <td>90.624631</td>\n",
       "    </tr>\n",
       "    <tr>\n",
       "      <th>3</th>\n",
       "      <td>166.436584</td>\n",
       "      <td>84.094420</td>\n",
       "      <td>68.619984</td>\n",
       "      <td>90.746593</td>\n",
       "    </tr>\n",
       "    <tr>\n",
       "      <th>4</th>\n",
       "      <td>157.409220</td>\n",
       "      <td>82.370638</td>\n",
       "      <td>65.808439</td>\n",
       "      <td>90.823521</td>\n",
       "    </tr>\n",
       "    <tr>\n",
       "      <th>...</th>\n",
       "      <td>...</td>\n",
       "      <td>...</td>\n",
       "      <td>...</td>\n",
       "      <td>...</td>\n",
       "    </tr>\n",
       "    <tr>\n",
       "      <th>4351</th>\n",
       "      <td>-122.043702</td>\n",
       "      <td>0.000000</td>\n",
       "      <td>-262.911392</td>\n",
       "      <td>-94.141791</td>\n",
       "    </tr>\n",
       "    <tr>\n",
       "      <th>4352</th>\n",
       "      <td>-148.418690</td>\n",
       "      <td>0.000000</td>\n",
       "      <td>-270.065468</td>\n",
       "      <td>-94.776786</td>\n",
       "    </tr>\n",
       "    <tr>\n",
       "      <th>4353</th>\n",
       "      <td>-155.452618</td>\n",
       "      <td>0.000000</td>\n",
       "      <td>-275.920023</td>\n",
       "      <td>-94.844920</td>\n",
       "    </tr>\n",
       "    <tr>\n",
       "      <th>4354</th>\n",
       "      <td>-165.869724</td>\n",
       "      <td>0.000000</td>\n",
       "      <td>-280.808573</td>\n",
       "      <td>-94.899170</td>\n",
       "    </tr>\n",
       "    <tr>\n",
       "      <th>4355</th>\n",
       "      <td>-169.527559</td>\n",
       "      <td>0.000000</td>\n",
       "      <td>-282.030698</td>\n",
       "      <td>-95.273464</td>\n",
       "    </tr>\n",
       "  </tbody>\n",
       "</table>\n",
       "<p>4356 rows × 4 columns</p>\n",
       "</div>"
      ],
      "text/plain": [
       "      Profit Margin  Debt Ratio         ROA  2019 PRICE VAR [%]\n",
       "0        181.923770  100.000000   76.138651           90.692319\n",
       "1        179.253627   96.498837   73.572218           90.404436\n",
       "2        172.680547   93.015537   72.065130           90.624631\n",
       "3        166.436584   84.094420   68.619984           90.746593\n",
       "4        157.409220   82.370638   65.808439           90.823521\n",
       "...             ...         ...         ...                 ...\n",
       "4351    -122.043702    0.000000 -262.911392          -94.141791\n",
       "4352    -148.418690    0.000000 -270.065468          -94.776786\n",
       "4353    -155.452618    0.000000 -275.920023          -94.844920\n",
       "4354    -165.869724    0.000000 -280.808573          -94.899170\n",
       "4355    -169.527559    0.000000 -282.030698          -95.273464\n",
       "\n",
       "[4356 rows x 4 columns]"
      ]
     },
     "execution_count": 3,
     "metadata": {},
     "output_type": "execute_result"
    }
   ],
   "source": [
    "final_path = os.path.join(os.path.expanduser('~'), 'OneDrive', 'Desktop','UNI', 'Fuzzy', 'sorted_final.csv')\n",
    "data = pd.read_csv(final_path)\n",
    "data"
   ]
  }
 ],
 "metadata": {
  "kernelspec": {
   "display_name": "Python 3",
   "language": "python",
   "name": "python3"
  },
  "language_info": {
   "codemirror_mode": {
    "name": "ipython",
    "version": 3
   },
   "file_extension": ".py",
   "mimetype": "text/x-python",
   "name": "python",
   "nbconvert_exporter": "python",
   "pygments_lexer": "ipython3",
   "version": "3.12.1"
  }
 },
 "nbformat": 4,
 "nbformat_minor": 2
}
